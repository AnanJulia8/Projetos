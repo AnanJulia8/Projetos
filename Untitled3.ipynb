{
  "nbformat": 4,
  "nbformat_minor": 0,
  "metadata": {
    "colab": {
      "provenance": [],
      "authorship_tag": "ABX9TyNHA2v5vWc/XHSQq1X9+4gD",
      "include_colab_link": true
    },
    "kernelspec": {
      "name": "python3",
      "display_name": "Python 3"
    },
    "language_info": {
      "name": "python"
    }
  },
  "cells": [
    {
      "cell_type": "markdown",
      "metadata": {
        "id": "view-in-github",
        "colab_type": "text"
      },
      "source": [
        "<a href=\"https://colab.research.google.com/github/AnanJulia8/Projetos/blob/main/Untitled3.ipynb\" target=\"_parent\"><img src=\"https://colab.research.google.com/assets/colab-badge.svg\" alt=\"Open In Colab\"/></a>"
      ]
    },
    {
      "cell_type": "markdown",
      "source": [
        "# Curso de Python - Woorkbook"
      ],
      "metadata": {
        "id": "58TGAr8TkU2j"
      }
    },
    {
      "cell_type": "markdown",
      "source": [
        "## Variáveis"
      ],
      "metadata": {
        "id": "HdeFywQ8k1T-"
      }
    },
    {
      "cell_type": "code",
      "source": [
        "x = 10  # Inteiro\n",
        "y = 3.14  # Ponto flutuante\n",
        "nome = 'Ana'  # String\n",
        "print(f'Valores: {x}, {y}, {nome}')"
      ],
      "metadata": {
        "id": "FwRZF-Bgke9l"
      },
      "execution_count": null,
      "outputs": []
    },
    {
      "cell_type": "markdown",
      "source": [
        "## Estrutura de dados"
      ],
      "metadata": {
        "id": "ex9cMBrtk7ol"
      }
    },
    {
      "cell_type": "code",
      "source": [
        "lista = [1, 2, 3, 4, 5]\n",
        "tupla = (10, 20, 30)\n",
        "dicionario = {'nome': 'Ana', 'idade': 17}\n",
        "print(lista, tupla, dicionario)"
      ],
      "metadata": {
        "id": "d35r1YRElOZK"
      },
      "execution_count": null,
      "outputs": []
    },
    {
      "cell_type": "markdown",
      "source": [
        "## Condicionais"
      ],
      "metadata": {
        "id": "6A0CBk0jllpO"
      }
    },
    {
      "cell_type": "code",
      "source": [
        "Idade = int(input('Digite sua idade:' ))\n",
        "\n",
        "\n",
        "if Idade>=18:\n",
        " print('Maior de idade')\n",
        "else:\n",
        " print('Menor de idade')"
      ],
      "metadata": {
        "id": "BTlhAakCluJP"
      },
      "execution_count": null,
      "outputs": []
    },
    {
      "cell_type": "markdown",
      "source": [
        "## Repetição"
      ],
      "metadata": {
        "id": "a4HUWuyfpGAT"
      }
    },
    {
      "cell_type": "code",
      "source": [
        "for i in range(5):\n",
        "    print(f'Iteração {i}')"
      ],
      "metadata": {
        "id": "w1SqDiRfpUDF"
      },
      "execution_count": null,
      "outputs": []
    },
    {
      "cell_type": "markdown",
      "source": [
        "## Cadeia de caracteres"
      ],
      "metadata": {
        "id": "rvgGinJ7rtTg"
      }
    },
    {
      "cell_type": "code",
      "source": [
        "primeiro_nome = 'Ana Julia'\n",
        "ultimo_nome= 'Sales'\n",
        "\n",
        "#output = 'Hello,' + primeiro_nome + ' ' + ultimo_nome\n",
        "#output = 'Hello, {} {}' .format(primeiro_nome, ultimo_nome)\n",
        "#output = 'Hello, {0} {1}' .format(primeiro_nome, ultimo_nome)\n",
        "output= f'Hello, {primeiro_nome} {ultimo_nome}'\n",
        "print(output)"
      ],
      "metadata": {
        "id": "O5XMNLHYrsoR"
      },
      "execution_count": null,
      "outputs": []
    }
  ]
}