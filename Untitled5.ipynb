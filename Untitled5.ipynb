{
  "nbformat": 4,
  "nbformat_minor": 0,
  "metadata": {
    "colab": {
      "provenance": [],
      "authorship_tag": "ABX9TyNE10HLtVm31P9gUiwxGK8q",
      "include_colab_link": true
    },
    "kernelspec": {
      "name": "python3",
      "display_name": "Python 3"
    },
    "language_info": {
      "name": "python"
    }
  },
  "cells": [
    {
      "cell_type": "markdown",
      "metadata": {
        "id": "view-in-github",
        "colab_type": "text"
      },
      "source": [
        "<a href=\"https://colab.research.google.com/github/AnanJulia8/Projetos/blob/main/Untitled5.ipynb\" target=\"_parent\"><img src=\"https://colab.research.google.com/assets/colab-badge.svg\" alt=\"Open In Colab\"/></a>"
      ]
    },
    {
      "cell_type": "code",
      "execution_count": null,
      "metadata": {
        "colab": {
          "base_uri": "https://localhost:8080/"
        },
        "id": "jPKt_Y1w7DNn",
        "outputId": "85d04f4e-998e-4816-b16f-bafab3a8eb31"
      },
      "outputs": [
        {
          "output_type": "stream",
          "name": "stdout",
          "text": [
            "Digite o salário base: 3050\n",
            "Digite o valor das vendas: 5890\n",
            "salario_liquido: R$ 3347.88\n"
          ]
        }
      ],
      "source": [
        "salario_base = float(input('Digite o salário base: '))\n",
        "vendas = float(input('Digite o valor das vendas: '))\n",
        "\n",
        "bonus = 0.10 * vendas if vendas > 5000 else 0\n",
        "salario_bruto = salario_base + bonus\n",
        "imposto = 0.08 * salario_bruto\n",
        "\n",
        "salario_liquido = salario_bruto - imposto\n",
        "\n",
        "print(f'salario_liquido: R$ {salario_liquido:.2f}')"
      ]
    },
    {
      "cell_type": "code",
      "source": [
        "a = int(input('Digite o primeiro lado: '))\n",
        "b = int(input('Digite o segundo lado: '))\n",
        "c = int(input('Digite o terceiro lado: '))\n",
        "\n",
        "if a + b > c and a + c > b and b + c > a:\n",
        " if a == b == c:\n",
        "  print('Triângulo equilátero')\n",
        " elif a == b or a == c or b == c:\n",
        "  print('Triângulo isósceles')\n",
        " else:\n",
        "  print('Triângulo escaléno')\n",
        "else:\n",
        "  print('Não forma um triângulo')\n",
        "\n"
      ],
      "metadata": {
        "colab": {
          "base_uri": "https://localhost:8080/"
        },
        "id": "9fDOluSFA0vw",
        "outputId": "47f6b13b-ad5a-462d-c3c0-54145af7088b"
      },
      "execution_count": null,
      "outputs": [
        {
          "output_type": "stream",
          "name": "stdout",
          "text": [
            "Digite o primeiro lado: 7\n",
            "Digite o segundo lado: 7\n",
            "Digite o terceiro lado: 5\n",
            "Triângulo isósceles\n"
          ]
        }
      ]
    },
    {
      "cell_type": "code",
      "source": [
        "import math\n",
        "\n",
        "a = float(input('Digite o coeficiente a: '))\n",
        "b = float(input('Digite o coeficiente b: '))\n",
        "c = float(input('Digite o coeficiente c: '))\n",
        "\n",
        "if a == 0:\n",
        "  print('Não é uma equação do segundo grau.')\n",
        "else:\n",
        "  delta = b**2 - 4*a*c\n",
        "  if delta < 0:\n",
        "    print('Não existem raizes reais')\n",
        "  elif delta == 0:\n",
        "    x = -b / (2*a)\n",
        "    print(f'Existe uma raiz real: x = {x:.2f}')\n",
        "  else:\n",
        "    x1 = (-b + math.sqrt(delta)) / (2*a)\n",
        "    x2 = (-b - math.sqrt(delta)) / (2*a)\n",
        "    print(f'Raizes reais: x1 = {x1:.2f}, x2 = {x2:.2f}')\n"
      ],
      "metadata": {
        "colab": {
          "base_uri": "https://localhost:8080/"
        },
        "id": "dw_x3g9UG-a5",
        "outputId": "93f6ceee-04e1-45c2-e347-833230d4d617"
      },
      "execution_count": null,
      "outputs": [
        {
          "output_type": "stream",
          "name": "stdout",
          "text": [
            "Digite o coeficiente a: 1\n",
            "Digite o coeficiente b: -3\n",
            "Digite o coeficiente c: 2\n",
            "Raizes reais: x1 = 2.00, x2 = 1.00\n"
          ]
        }
      ]
    },
    {
      "cell_type": "code",
      "source": [
        "valor_compra = float(input('Digite o valor da compra: '))\n",
        "\n",
        "if valor_compra <= 100:\n",
        "  desconto = 0.05\n",
        "elif valor_compra <= 500:\n",
        "  desconto = 0.10\n",
        "else:\n",
        "  desconto = 0.15\n",
        "\n",
        "valor_final = valor_compra * (1 - desconto)\n",
        "print(f'Valor final após desconto: R$ {valor_final:.2f}')"
      ],
      "metadata": {
        "colab": {
          "base_uri": "https://localhost:8080/"
        },
        "id": "A_co-ZIVPOwa",
        "outputId": "0b1a05aa-36d1-41b8-d35c-6a5a60607302"
      },
      "execution_count": null,
      "outputs": [
        {
          "output_type": "stream",
          "name": "stdout",
          "text": [
            "Digite o valor da compra: 800\n",
            "Valor final após desconto: R$ 680.00\n"
          ]
        }
      ]
    },
    {
      "cell_type": "code",
      "source": [
        "def ano_bissexto(ano):\n",
        "  return (ano % 400 == 0) or (ano % 4 == 0 and ano % 100 != 0)\n",
        "\n",
        "dia = int(input('Digite o dia: '))\n",
        "mes = int(input('Digite o mes: '))\n",
        "ano = int(input('Digite o ano: '))\n",
        "\n",
        "dias_por_mes = {1: 31, 2: 28, 3: 31, 4: 30, 5: 31, 6: 30,\n",
        "                7: 31, 8: 31, 9: 30, 10: 31, 11: 30, 12: 31}\n",
        "\n",
        "if mes == 2 and ano_bissexto(ano):\n",
        "  dias_por_mes[2] = 29\n",
        "if mes in dias_por_mes and 1 <= dia <= dias_por_mes[mes] and ano > 0:\n",
        "  print('Data válida')\n",
        "else:\n",
        "  print('Data inválida')\n",
        "\n"
      ],
      "metadata": {
        "colab": {
          "base_uri": "https://localhost:8080/"
        },
        "id": "dRlVP0MfV22Z",
        "outputId": "957b4636-cb6c-41b0-8f09-861fb069f937"
      },
      "execution_count": null,
      "outputs": [
        {
          "output_type": "stream",
          "name": "stdout",
          "text": [
            "Digite o dia: 28\n",
            "Digite o mes: 3\n",
            "Digite o ano: 2007\n",
            "Data válida\n"
          ]
        }
      ]
    },
    {
      "cell_type": "code",
      "source": [
        "def calcular_inss(salario_bruto):\n",
        "    faixas_inss = [\n",
        "        (1518.00, 0.075),\n",
        "        (2793.88, 0.09),\n",
        "        (4190.83, 0.12),\n",
        "        (8157.41, 0.14)\n",
        "    ]\n",
        "    contribuicao = 0.0\n",
        "    salario_restante = salario_bruto\n",
        "\n",
        "    for limite, aliquota in faixas_inss:\n",
        "        if salario_restante > 0:\n",
        "            base_calculo = min(salario_restante, limite)\n",
        "            contribuicao += base_calculo * aliquota\n",
        "            salario_restante -= base_calculo\n",
        "\n",
        "    return min(contribuicao, 8157.41 * 0.14)\n",
        "\n",
        "def calcular_irpf(base_calculo):\n",
        "    faixas_irpf = [\n",
        "        (2259.20, 0.0, 0.0),\n",
        "        (3051.48, 0.075, 169.44),\n",
        "        (3856.94, 0.15, 382.12),\n",
        "        (4664.68, 0.225, 651.73),\n",
        "        (float('inf'), 0.275, 884.96)\n",
        "    ]\n",
        "\n",
        "    imposto = 0.0\n",
        "    for limite, aliquota, deducao in faixas_irpf:\n",
        "        if base_calculo <= limite:\n",
        "            imposto = (base_calculo * aliquota) - deducao\n",
        "            break\n",
        "\n",
        "    return max(imposto, 0)\n",
        "\n",
        "salario_bruto = float(input(\"Digite o salário bruto: \"))\n",
        "\n",
        "inss = calcular_inss(salario_bruto)\n",
        "\n",
        "base_irpf = salario_bruto - inss\n",
        "\n",
        "irpf = calcular_irpf(base_irpf)\n",
        "\n",
        "salario_liquido = salario_bruto - inss - irpf\n",
        "\n",
        "print(f\"Salário bruto: R$ {salario_bruto:.2f}\")\n",
        "print(f\"Desconto INSS: R$ {inss:.2f}\")\n",
        "print(f\"Desconto IRPF: R$ {irpf:.2f}\")\n",
        "print(f\"Salário líquido: R$ {salario_liquido:.2f}\")\n"
      ],
      "metadata": {
        "colab": {
          "base_uri": "https://localhost:8080/"
        },
        "id": "xreuN0lpdFss",
        "outputId": "9c0ea2f1-6796-43da-91f4-df5f41c64b8b"
      },
      "execution_count": null,
      "outputs": [
        {
          "output_type": "stream",
          "name": "stdout",
          "text": [
            "Digite o salário bruto: 5000\n",
            "Salário bruto: R$ 5000.00\n",
            "Desconto INSS: R$ 447.87\n",
            "Desconto IRPF: R$ 372.50\n",
            "Salário líquido: R$ 4179.63\n"
          ]
        }
      ]
    }
  ]
}